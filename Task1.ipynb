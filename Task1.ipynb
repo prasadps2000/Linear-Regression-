{
 "cells": [
  {
   "cell_type": "markdown",
   "id": "0b6d1e88",
   "metadata": {},
   "source": [
    "# Task 1 TSF\n",
    "\n",
    "# Data Science and Business Analytics Tasks\n",
    "\n",
    "## Predict the percentage of an student based on the no. of study hours \n",
    "\n",
    "## Author: Prasad Patil"
   ]
  },
  {
   "cell_type": "code",
   "execution_count": 1,
   "id": "e1443d5b",
   "metadata": {},
   "outputs": [],
   "source": [
    "import pandas as pd\n",
    "import numpy as np\n",
    "import matplotlib.pyplot as plt\n",
    "%matplotlib inline"
   ]
  },
  {
   "cell_type": "markdown",
   "id": "cbd48918",
   "metadata": {},
   "source": [
    "Importing dataset "
   ]
  },
  {
   "cell_type": "code",
   "execution_count": 4,
   "id": "f0d16a13",
   "metadata": {},
   "outputs": [
    {
     "data": {
      "text/html": [
       "<div>\n",
       "<style scoped>\n",
       "    .dataframe tbody tr th:only-of-type {\n",
       "        vertical-align: middle;\n",
       "    }\n",
       "\n",
       "    .dataframe tbody tr th {\n",
       "        vertical-align: top;\n",
       "    }\n",
       "\n",
       "    .dataframe thead th {\n",
       "        text-align: right;\n",
       "    }\n",
       "</style>\n",
       "<table border=\"1\" class=\"dataframe\">\n",
       "  <thead>\n",
       "    <tr style=\"text-align: right;\">\n",
       "      <th></th>\n",
       "      <th>Hours</th>\n",
       "      <th>Scores</th>\n",
       "    </tr>\n",
       "  </thead>\n",
       "  <tbody>\n",
       "    <tr>\n",
       "      <th>0</th>\n",
       "      <td>2.5</td>\n",
       "      <td>21</td>\n",
       "    </tr>\n",
       "    <tr>\n",
       "      <th>1</th>\n",
       "      <td>5.1</td>\n",
       "      <td>47</td>\n",
       "    </tr>\n",
       "    <tr>\n",
       "      <th>2</th>\n",
       "      <td>3.2</td>\n",
       "      <td>27</td>\n",
       "    </tr>\n",
       "    <tr>\n",
       "      <th>3</th>\n",
       "      <td>8.5</td>\n",
       "      <td>75</td>\n",
       "    </tr>\n",
       "    <tr>\n",
       "      <th>4</th>\n",
       "      <td>3.5</td>\n",
       "      <td>30</td>\n",
       "    </tr>\n",
       "  </tbody>\n",
       "</table>\n",
       "</div>"
      ],
      "text/plain": [
       "   Hours  Scores\n",
       "0    2.5      21\n",
       "1    5.1      47\n",
       "2    3.2      27\n",
       "3    8.5      75\n",
       "4    3.5      30"
      ]
     },
     "execution_count": 4,
     "metadata": {},
     "output_type": "execute_result"
    }
   ],
   "source": [
    "df=pd.read_csv('https://raw.githubusercontent.com/AdiPersonalWorks/Random/master/student_scores%20-%20student_scores.csv')\n",
    "df.head()"
   ]
  },
  {
   "cell_type": "code",
   "execution_count": 6,
   "id": "da264484",
   "metadata": {},
   "outputs": [
    {
     "data": {
      "text/plain": [
       "(25, 2)"
      ]
     },
     "execution_count": 6,
     "metadata": {},
     "output_type": "execute_result"
    }
   ],
   "source": [
    "df.shape # tells no. of rows and coloums in dataset"
   ]
  },
  {
   "cell_type": "markdown",
   "id": "936c1c36",
   "metadata": {},
   "source": [
    "#### Now Let's plot our data points on a graph to know the relationship between the data"
   ]
  },
  {
   "cell_type": "code",
   "execution_count": 7,
   "id": "5dbd2c03",
   "metadata": {},
   "outputs": [
    {
     "data": {
      "image/png": "[encoded data removed]",
      "text/plain": [
       "<Figure size 432x288 with 1 Axes>"
      ]
     },
     "metadata": {
      "needs_background": "light"
     },
     "output_type": "display_data"
    }
   ],
   "source": [
    "plt.scatter(df['Hours'],df['Scores'])\n",
    "plt.title('Comparing Hours and Scores')\n",
    "plt.xlabel('Total Hours studied')\n",
    "plt.ylabel('Total Score')\n",
    "plt.show()"
   ]
  },
  {
   "cell_type": "markdown",
   "id": "4af96bba",
   "metadata": {},
   "source": [
    "#### So from the above graph we can draw one conclusion that there is a positive line relation between total hours studied and total score"
   ]
  },
  {
   "cell_type": "markdown",
   "id": "52d6fc18",
   "metadata": {},
   "source": [
    "# Preparing the data\n",
    "### Now next step is to seperate the input (attributes) and output (labels) values from the data"
   ]
  },
  {
   "cell_type": "code",
   "execution_count": 15,
   "id": "c0d5601c",
   "metadata": {},
   "outputs": [],
   "source": [
    "X=df.iloc[:,:-1].values\n",
    "y=df.iloc[:,1].values\n",
    "#print(X,y)"
   ]
  },
  {
   "cell_type": "markdown",
   "id": "fe8bb493",
   "metadata": {},
   "source": [
    "#### So now we have our attributes and labels, the next step is to split the data into training amnd testing sets. \n",
    "### We will do this with train_test_split() method available in Scikit-learn "
   ]
  },
  {
   "cell_type": "code",
   "execution_count": 13,
   "id": "0556f4ca",
   "metadata": {},
   "outputs": [],
   "source": [
    "from sklearn.model_selection import train_test_split\n",
    "X_train,X_test,y_train,y_test=train_test_split(X,y,test_size=0.2,random_state=0)\n"
   ]
  },
  {
   "cell_type": "markdown",
   "id": "026488d3",
   "metadata": {},
   "source": [
    "# Training Algorithm\n",
    "\n",
    "#### So after spliting the data into training and testing sets, now we have to train our model to get the desired results"
   ]
  },
  {
   "cell_type": "code",
   "execution_count": 17,
   "id": "cab53d0d",
   "metadata": {},
   "outputs": [
    {
     "name": "stdout",
     "output_type": "stream",
     "text": [
      "Training completed for the model\n"
     ]
    }
   ],
   "source": [
    "from sklearn.linear_model import LinearRegression\n",
    "model=LinearRegression()\n",
    "model.fit(X_train,y_train)\n",
    "print(\"Training completed for the model\")\n",
    "\n"
   ]
  },
  {
   "cell_type": "markdown",
   "id": "e642a7f5",
   "metadata": {},
   "source": [
    "### Now we need to plot the best fit line for the model\n",
    "\n",
    "### But before that we need to find the coefficient and intercept for regression line"
   ]
  },
  {
   "cell_type": "code",
   "execution_count": 21,
   "id": "29c23dcf",
   "metadata": {},
   "outputs": [
    {
     "name": "stdout",
     "output_type": "stream",
     "text": [
      "Coefficient [9.91065648]\n",
      "Intercept 2.018160041434683\n"
     ]
    }
   ],
   "source": [
    "print(\"Coefficient\",model.coef_)\n",
    "print(\"Intercept\",model.intercept_)"
   ]
  },
  {
   "cell_type": "markdown",
   "id": "edd93b87",
   "metadata": {},
   "source": [
    "## Plotting the regression line"
   ]
  },
  {
   "cell_type": "code",
   "execution_count": 2,
   "id": "39ae3e5e",
   "metadata": {},
   "outputs": [],
   "source": [
    "line=model.coef_*X+model.intercept_"
   ]
  },
  {
   "cell_type": "markdown",
   "id": "9104eae5",
   "metadata": {},
   "source": [
    "## Now Plotting the Best Fit Line for the Model"
   ]
  },
  {
   "cell_type": "code",
   "execution_count": 25,
   "id": "bb5cca87",
   "metadata": {},
   "outputs": [
    {
     "data": {
      "image/png": "[encoded data removed]",
      "text/plain": [
       "<Figure size 432x288 with 1 Axes>"
      ]
     },
     "metadata": {
      "needs_background": "light"
     },
     "output_type": "display_data"
    }
   ],
   "source": [
    "plt.scatter(df['Hours'],df['Scores'])\n",
    "plt.plot(X,line,c='r')\n",
    "plt.title('Best Fit Line')\n",
    "plt.xlabel('total no. of hours')\n",
    "plt.ylabel('Total score obtained')\n",
    "plt.show()"
   ]
  },
  {
   "cell_type": "markdown",
   "id": "93f7e9f3",
   "metadata": {},
   "source": [
    "# Making Predictions of the model (Testing the Model)"
   ]
  },
  {
   "cell_type": "markdown",
   "id": "6c2324d5",
   "metadata": {},
   "source": [
    "### So after training the model, it's time to make some predictions "
   ]
  },
  {
   "cell_type": "code",
   "execution_count": 30,
   "id": "6e5831d6",
   "metadata": {},
   "outputs": [
    {
     "name": "stdout",
     "output_type": "stream",
     "text": [
      "[[1.5]\n",
      " [3.2]\n",
      " [7.4]\n",
      " [2.5]\n",
      " [5.9]]\n",
      "[16.88414476 33.73226078 75.357018   26.79480124 60.49103328]\n"
     ]
    }
   ],
   "source": [
    "print(X_test) #Testing in hours\n",
    "y_pred=model.predict(X_test)\n",
    "print(y_pred)# Predicting the scores"
   ]
  },
  {
   "cell_type": "markdown",
   "id": "bc5e664f",
   "metadata": {},
   "source": [
    "##### You can also check with a specific value\n",
    "\n"
   ]
  },
  {
   "cell_type": "code",
   "execution_count": 33,
   "id": "2068ac10",
   "metadata": {},
   "outputs": [
    {
     "data": {
      "text/plain": [
       "array([46.6161142])"
      ]
     },
     "execution_count": 33,
     "metadata": {},
     "output_type": "execute_result"
    }
   ],
   "source": [
    "model.predict([[4.5]])"
   ]
  },
  {
   "cell_type": "markdown",
   "id": "bc8ebfa7",
   "metadata": {},
   "source": [
    "#### you can also cross check if the value is correct by comparing it with linear regression equation\n",
    "\n",
    "coefficient*model.predict[value]+intercept\n",
    "\n",
    "#### It should be same as model.predict value"
   ]
  },
  {
   "cell_type": "code",
   "execution_count": 35,
   "id": "6e35e417",
   "metadata": {},
   "outputs": [
    {
     "data": {
      "text/plain": [
       "46.616114201434684"
      ]
     },
     "execution_count": 35,
     "metadata": {},
     "output_type": "execute_result"
    }
   ],
   "source": [
    "# Example\n",
    "\n",
    "9.91065648*4.5+2.018160041434683"
   ]
  },
  {
   "cell_type": "markdown",
   "id": "96fdf635",
   "metadata": {},
   "source": [
    "### As seen above the linear regression equation matches with model predict value so it is correct"
   ]
  },
  {
   "cell_type": "markdown",
   "id": "1c3c24b4",
   "metadata": {},
   "source": [
    "#### Now Again just compare Actual vs Predicted value"
   ]
  },
  {
   "cell_type": "code",
   "execution_count": 38,
   "id": "6f2f1455",
   "metadata": {},
   "outputs": [
    {
     "data": {
      "text/html": [
       "<div>\n",
       "<style scoped>\n",
       "    .dataframe tbody tr th:only-of-type {\n",
       "        vertical-align: middle;\n",
       "    }\n",
       "\n",
       "    .dataframe tbody tr th {\n",
       "        vertical-align: top;\n",
       "    }\n",
       "\n",
       "    .dataframe thead th {\n",
       "        text-align: right;\n",
       "    }\n",
       "</style>\n",
       "<table border=\"1\" class=\"dataframe\">\n",
       "  <thead>\n",
       "    <tr style=\"text-align: right;\">\n",
       "      <th></th>\n",
       "      <th>Actual</th>\n",
       "      <th>Predicted</th>\n",
       "    </tr>\n",
       "  </thead>\n",
       "  <tbody>\n",
       "    <tr>\n",
       "      <th>0</th>\n",
       "      <td>20</td>\n",
       "      <td>16.884145</td>\n",
       "    </tr>\n",
       "    <tr>\n",
       "      <th>1</th>\n",
       "      <td>27</td>\n",
       "      <td>33.732261</td>\n",
       "    </tr>\n",
       "    <tr>\n",
       "      <th>2</th>\n",
       "      <td>69</td>\n",
       "      <td>75.357018</td>\n",
       "    </tr>\n",
       "    <tr>\n",
       "      <th>3</th>\n",
       "      <td>30</td>\n",
       "      <td>26.794801</td>\n",
       "    </tr>\n",
       "    <tr>\n",
       "      <th>4</th>\n",
       "      <td>62</td>\n",
       "      <td>60.491033</td>\n",
       "    </tr>\n",
       "  </tbody>\n",
       "</table>\n",
       "</div>"
      ],
      "text/plain": [
       "   Actual  Predicted\n",
       "0      20  16.884145\n",
       "1      27  33.732261\n",
       "2      69  75.357018\n",
       "3      30  26.794801\n",
       "4      62  60.491033"
      ]
     },
     "execution_count": 38,
     "metadata": {},
     "output_type": "execute_result"
    }
   ],
   "source": [
    "df=pd.DataFrame({'Actual': y_test, 'Predicted': y_pred})\n",
    "df"
   ]
  },
  {
   "cell_type": "markdown",
   "id": "5e192f95",
   "metadata": {},
   "source": [
    "#### Now we will just take a proper example to show testing with our own data\n",
    "\n"
   ]
  },
  {
   "cell_type": "code",
   "execution_count": 58,
   "id": "cb53cc08",
   "metadata": {},
   "outputs": [
    {
     "name": "stdout",
     "output_type": "stream",
     "text": [
      "No. of Hours= [[9.25]]\n",
      "Predicted Score= 93.69173248737538\n"
     ]
    }
   ],
   "source": [
    "hours=[[9.25]]\n",
    "own_predict=model.predict(hours)\n",
    "print(\"No. of Hours= {}\".format(hours))\n",
    "print(\"Predicted Score= {}\".format(own_predict[0]))\n"
   ]
  },
  {
   "cell_type": "markdown",
   "id": "a1714e82",
   "metadata": {},
   "source": [
    "#### Now we will take input form the user itself to test the model"
   ]
  },
  {
   "cell_type": "code",
   "execution_count": 62,
   "id": "4bf00b15",
   "metadata": {},
   "outputs": [
    {
     "name": "stdout",
     "output_type": "stream",
     "text": [
      "Enter no. of hours studied9.25\n",
      "Predicted score=93.69173248737538\n"
     ]
    },
    {
     "name": "stderr",
     "output_type": "stream",
     "text": [
      "C:\\Users\\patil\\anaconda3\\lib\\site-packages\\sklearn\\utils\\validation.py:63: FutureWarning: Arrays of bytes/strings is being converted to decimal numbers if dtype='numeric'. This behavior is deprecated in 0.24 and will be removed in 1.1 (renaming of 0.26). Please convert your data to numeric values explicitly instead.\n",
      "  return f(*args, **kwargs)\n"
     ]
    }
   ],
   "source": [
    "val=input('Enter no. of hours studied')\n",
    "reshape=np.array(val).reshape(-1,1)\n",
    "score=model.predict(reshape)\n",
    "print(\"Predicted score={}\".format(score[0]))"
   ]
  },
  {
   "cell_type": "markdown",
   "id": "0443ba4c",
   "metadata": {},
   "source": [
    "# Evaluating the model\n",
    "\n",
    "#### The final step is to evaluate the performance of algorithm. This step is particularly important to compare how well different algorithms perform on a particular dataset. We will use coefficient of determination i.e r2 score \n",
    "\n",
    "Coefficient of Determination = R2 Score\n",
    "0 to 1 (0 - Bad and 1 - Good)\n",
    "-1 ( Means your model creation is wrong )"
   ]
  },
  {
   "cell_type": "markdown",
   "id": "e6109dca",
   "metadata": {},
   "source": [
    "from sklearn.metrics import r2_score\n",
    "r2_score(y_test,y_pred)  # Accuracy score"
   ]
  },
  {
   "cell_type": "code",
   "execution_count": 49,
   "id": "00eda0bd",
   "metadata": {},
   "outputs": [
    {
     "data": {
      "text/plain": [
       "0.9454906892105356"
      ]
     },
     "execution_count": 49,
     "metadata": {},
     "output_type": "execute_result"
    }
   ],
   "source": [
    "from sklearn.metrics import r2_score\n",
    "r2_score(y_test,y_pred)  # Accuracy score"
   ]
  },
  {
   "cell_type": "markdown",
   "id": "b9cb1245",
   "metadata": {},
   "source": [
    "#### We will also use we the mean square error metrics for evaluating the model\\\n"
   ]
  },
  {
   "cell_type": "code",
   "execution_count": 50,
   "id": "1db8b71f",
   "metadata": {},
   "outputs": [
    {
     "name": "stdout",
     "output_type": "stream",
     "text": [
      "Mean Absolute Error: 4.183859899002975\n"
     ]
    }
   ],
   "source": [
    "from sklearn import metrics  \n",
    "print('Mean Absolute Error:', \n",
    "      metrics.mean_absolute_error(y_test, y_pred)) "
   ]
  }
 ],
 "metadata": {
  "kernelspec": {
   "display_name": "Python 3",
   "language": "python",
   "name": "python3"
  },
  "language_info": {
   "codemirror_mode": {
    "name": "ipython",
    "version": 3
   },
   "file_extension": ".py",
   "mimetype": "text/x-python",
   "name": "python",
   "nbconvert_exporter": "python",
   "pygments_lexer": "ipython3",
   "version": "3.8.8"
  }
 },
 "nbformat": 4,
 "nbformat_minor": 5
}
